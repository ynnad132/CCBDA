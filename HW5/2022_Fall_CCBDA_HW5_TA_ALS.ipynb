{
  "nbformat": 4,
  "nbformat_minor": 0,
  "metadata": {
    "colab": {
      "provenance": []
    },
    "kernelspec": {
      "name": "python3",
      "display_name": "Python 3"
    },
    "language_info": {
      "name": "python"
    }
  },
  "cells": [
    {
      "cell_type": "code",
      "execution_count": null,
      "metadata": {
        "colab": {
          "base_uri": "https://localhost:8080/"
        },
        "id": "w4P2WtWiBFbT",
        "outputId": "40d558ae-1011-43ff-8357-d87f0289f0a7"
      },
      "outputs": [
        {
          "output_type": "stream",
          "name": "stdout",
          "text": [
            "Drive already mounted at /content/drive; to attempt to forcibly remount, call drive.mount(\"/content/drive\", force_remount=True).\n"
          ]
        }
      ],
      "source": [
        "from google.colab import drive\n",
        "drive.mount('/content/drive')"
      ]
    },
    {
      "cell_type": "code",
      "source": [
        "!apt-get -y install openjdk-8-jre-headless\n",
        "!pip install pyspark"
      ],
      "metadata": {
        "colab": {
          "base_uri": "https://localhost:8080/"
        },
        "id": "wrAe9LO0BOTa",
        "outputId": "6f467b9c-c7e5-48d7-b484-7629808ffdd2"
      },
      "execution_count": null,
      "outputs": [
        {
          "output_type": "stream",
          "name": "stdout",
          "text": [
            "Reading package lists... Done\n",
            "Building dependency tree       \n",
            "Reading state information... Done\n",
            "openjdk-8-jre-headless is already the newest version (8u352-ga-1~18.04).\n",
            "The following package was automatically installed and is no longer required:\n",
            "  libnvidia-common-460\n",
            "Use 'apt autoremove' to remove it.\n",
            "0 upgraded, 0 newly installed, 0 to remove and 20 not upgraded.\n",
            "Looking in indexes: https://pypi.org/simple, https://us-python.pkg.dev/colab-wheels/public/simple/\n",
            "Requirement already satisfied: pyspark in /usr/local/lib/python3.8/dist-packages (3.3.1)\n",
            "Requirement already satisfied: py4j==0.10.9.5 in /usr/local/lib/python3.8/dist-packages (from pyspark) (0.10.9.5)\n"
          ]
        }
      ]
    },
    {
      "cell_type": "code",
      "source": [
        "from pyspark.sql import SparkSession\n",
        "spark = SparkSession.builder.appName(\"recommandation\").getOrCreate()"
      ],
      "metadata": {
        "id": "_RNHo4kPBRWh"
      },
      "execution_count": null,
      "outputs": []
    },
    {
      "cell_type": "code",
      "source": [
        "df_train = spark.read.csv('',header=True,inferSchema=True)\n"
      ],
      "metadata": {
        "id": "Ndk-5K2kBTRB"
      },
      "execution_count": null,
      "outputs": []
    },
    {
      "cell_type": "code",
      "source": [
        "df_train.printSchema()"
      ],
      "metadata": {
        "colab": {
          "base_uri": "https://localhost:8080/"
        },
        "id": "t6A9s5pABVOg",
        "outputId": "1bf542e8-83d0-481a-8720-60d462e87c82"
      },
      "execution_count": null,
      "outputs": [
        {
          "output_type": "stream",
          "name": "stdout",
          "text": [
            "root\n",
            " |-- item: string (nullable = true)\n",
            " |-- user: string (nullable = true)\n",
            " |-- rating: integer (nullable = true)\n",
            "\n"
          ]
        }
      ]
    },
    {
      "cell_type": "code",
      "source": [
        "from pyspark.sql.functions import format_number, lit\n",
        "df_train = df_train.withColumn('rating', df_train.rating.cast('float'))"
      ],
      "metadata": {
        "id": "VuiDPyjpBXmA"
      },
      "execution_count": null,
      "outputs": []
    },
    {
      "cell_type": "code",
      "source": [
        "df_train.printSchema()"
      ],
      "metadata": {
        "colab": {
          "base_uri": "https://localhost:8080/"
        },
        "id": "WamJ9W8FBbIR",
        "outputId": "4d3c4a3b-889d-44fe-ba04-a96c1d2a7fd9"
      },
      "execution_count": null,
      "outputs": [
        {
          "output_type": "stream",
          "name": "stdout",
          "text": [
            "root\n",
            " |-- item: string (nullable = true)\n",
            " |-- user: string (nullable = true)\n",
            " |-- rating: float (nullable = true)\n",
            "\n"
          ]
        }
      ]
    },
    {
      "cell_type": "code",
      "source": [
        "df_train.describe().show()"
      ],
      "metadata": {
        "colab": {
          "base_uri": "https://localhost:8080/"
        },
        "id": "LsWufIKZBc_L",
        "outputId": "b5773647-1fc7-4ea3-d7dd-5e865bdbfc74"
      },
      "execution_count": null,
      "outputs": [
        {
          "output_type": "stream",
          "name": "stdout",
          "text": [
            "+-------+--------------------+--------------------+------------------+\n",
            "|summary|                item|                user|            rating|\n",
            "+-------+--------------------+--------------------+------------------+\n",
            "|  count|               83798|               83798|             83798|\n",
            "|   mean|2.0769135928283918E9|                null| 4.359018114990811|\n",
            "| stddev|2.0710778913333938E9|                null|0.9940809586163019|\n",
            "|    min|          0439893577|A012468118FTQAINE...|               1.0|\n",
            "|    max|          B00LBI9BKA|       AZZYW4YOE1B6E|               5.0|\n",
            "+-------+--------------------+--------------------+------------------+\n",
            "\n"
          ]
        }
      ]
    },
    {
      "cell_type": "code",
      "source": [
        "df_train.head(10)"
      ],
      "metadata": {
        "colab": {
          "base_uri": "https://localhost:8080/"
        },
        "id": "MQmH7UqNBepy",
        "outputId": "34353dd5-93df-4a79-97be-ead7d6eb6842"
      },
      "execution_count": null,
      "outputs": [
        {
          "output_type": "execute_result",
          "data": {
            "text/plain": [
              "[Row(item='B008H54GVE', user='A2OIMJEGOCTQ87', rating=4.0),\n",
              " Row(item='B001NLISDG', user='A38KQZS5M1A8T8', rating=4.0),\n",
              " Row(item='B007S3S8HO', user='A1F5O1USOUOOXI', rating=3.0),\n",
              " Row(item='B008G6OOHA', user='A1FTZ5LLEX7NCM', rating=4.0),\n",
              " Row(item='B00A9JNR8E', user='A1R2JUOGIYH6HO', rating=4.0),\n",
              " Row(item='B00000JH3R', user='A2X7C89I7YRX1O', rating=5.0),\n",
              " Row(item='B000RXPU0U', user='A24BSKCWXC4M6D', rating=5.0),\n",
              " Row(item='B00DWXUYN0', user='A3JX1D26WFEXOS', rating=5.0),\n",
              " Row(item='B000E9DPVI', user='A2IWHA1XEYSPD6', rating=5.0),\n",
              " Row(item='B001EB9F3C', user='A2340917M1HHZ3', rating=4.0)]"
            ]
          },
          "metadata": {},
          "execution_count": 9
        }
      ]
    },
    {
      "cell_type": "markdown",
      "source": [
        "Useful function: indexing ID(string) to numerical index"
      ],
      "metadata": {
        "id": "ObRyIg2fSes9"
      }
    },
    {
      "cell_type": "code",
      "source": [
        "from pyspark.ml.feature import StringIndexer, IndexToString\n",
        "from pyspark.ml import Pipeline\n"
      ],
      "metadata": {
        "id": "C-zgoSFwErJC"
      },
      "execution_count": null,
      "outputs": []
    },
    {
      "cell_type": "code",
      "source": [
        "indexers = [StringIndexer(inputCol=column, outputCol=column+\"_index\").setHandleInvalid(\"keep\").fit(df_train) for column in list(set(df_train.columns)-set(['rating'])) ]\n",
        "pipeline = Pipeline(stages=indexers)\n",
        "df_ID = pipeline.fit(df_train).transform(df_train)"
      ],
      "metadata": {
        "id": "ADqbktFYEwRi"
      },
      "execution_count": null,
      "outputs": []
    },
    {
      "cell_type": "code",
      "source": [
        "df_ID.head(10)"
      ],
      "metadata": {
        "colab": {
          "base_uri": "https://localhost:8080/"
        },
        "id": "g7__2vKbE8C7",
        "outputId": "07cbabff-f57d-4bbf-e0da-9e2c94f851ca"
      },
      "execution_count": null,
      "outputs": [
        {
          "output_type": "execute_result",
          "data": {
            "text/plain": [
              "[Row(item='B008H54GVE', user='A2OIMJEGOCTQ87', rating=4.0, item_index=5709.0, user_index=1292.0),\n",
              " Row(item='B001NLISDG', user='A38KQZS5M1A8T8', rating=4.0, item_index=1849.0, user_index=4940.0),\n",
              " Row(item='B007S3S8HO', user='A1F5O1USOUOOXI', rating=3.0, item_index=937.0, user_index=669.0),\n",
              " Row(item='B008G6OOHA', user='A1FTZ5LLEX7NCM', rating=4.0, item_index=10888.0, user_index=107.0),\n",
              " Row(item='B00A9JNR8E', user='A1R2JUOGIYH6HO', rating=4.0, item_index=1979.0, user_index=1210.0),\n",
              " Row(item='B00000JH3R', user='A2X7C89I7YRX1O', rating=5.0, item_index=979.0, user_index=4764.0),\n",
              " Row(item='B000RXPU0U', user='A24BSKCWXC4M6D', rating=5.0, item_index=6385.0, user_index=2866.0),\n",
              " Row(item='B00DWXUYN0', user='A3JX1D26WFEXOS', rating=5.0, item_index=9620.0, user_index=8104.0),\n",
              " Row(item='B000E9DPVI', user='A2IWHA1XEYSPD6', rating=5.0, item_index=420.0, user_index=11230.0),\n",
              " Row(item='B001EB9F3C', user='A2340917M1HHZ3', rating=4.0, item_index=51.0, user_index=10687.0)]"
            ]
          },
          "metadata": {},
          "execution_count": 12
        }
      ]
    },
    {
      "cell_type": "code",
      "source": [
        "(train, test) = df_ID.randomSplit([0.8, 0.2], seed = 2022)"
      ],
      "metadata": {
        "id": "L7K_fRKjBv7E"
      },
      "execution_count": null,
      "outputs": []
    },
    {
      "cell_type": "markdown",
      "source": [
        "Useful function: Construct Binary data \\\\\n",
        "adding 1 for watched and 0 for not watched"
      ],
      "metadata": {
        "id": "nvjRKqWKS6AW"
      }
    },
    {
      "cell_type": "code",
      "source": [
        "def get_binary_data(ratings):\n",
        "    ratings = df_ID.withColumn('binary', lit(1))\n",
        "    userIds = df_ID.select(\"user_index\").distinct()\n",
        "    itemIds = df_ID.select(\"item_index\").distinct()\n",
        "\n",
        "    user_item = userIds.crossJoin(itemIds).join(ratings, ['user_index', 'item_index'], \"left\")\n",
        "    user_item = user_item.select(['user_index', 'item_index', 'binary']).fillna(0)\n",
        "    return user_item\n",
        "\n",
        "user_item = get_binary_data(df_ID)"
      ],
      "metadata": {
        "id": "UGvGKXfQB_Xn"
      },
      "execution_count": null,
      "outputs": []
    },
    {
      "cell_type": "code",
      "source": [
        "user_item.show()"
      ],
      "metadata": {
        "colab": {
          "base_uri": "https://localhost:8080/"
        },
        "id": "WkPAb0p5DEyE",
        "outputId": "cfc30bbb-4060-4dd2-ede4-94420297a1ae"
      },
      "execution_count": null,
      "outputs": [
        {
          "output_type": "stream",
          "name": "stdout",
          "text": [
            "+----------+----------+------+\n",
            "|user_index|item_index|binary|\n",
            "+----------+----------+------+\n",
            "|    5776.0|     305.0|     0|\n",
            "|    5776.0|    2815.0|     0|\n",
            "|    5776.0|    9753.0|     0|\n",
            "|    5776.0|     692.0|     0|\n",
            "|    5776.0|     299.0|     0|\n",
            "|    5776.0|     596.0|     0|\n",
            "|    5776.0|     496.0|     0|\n",
            "|    5776.0|    5776.0|     0|\n",
            "|    5776.0|    2734.0|     0|\n",
            "|    5776.0|    1051.0|     0|\n",
            "|    5776.0|    2862.0|     0|\n",
            "|    5776.0|     769.0|     0|\n",
            "|    5776.0|    6433.0|     0|\n",
            "|    5776.0|    5360.0|     0|\n",
            "|    5776.0|     934.0|     0|\n",
            "|    5776.0|    5983.0|     0|\n",
            "|    5776.0|    6454.0|     0|\n",
            "|    5776.0|   11757.0|     0|\n",
            "|    5776.0|     558.0|     0|\n",
            "|    5776.0|    7313.0|     0|\n",
            "+----------+----------+------+\n",
            "only showing top 20 rows\n",
            "\n"
          ]
        }
      ]
    },
    {
      "cell_type": "markdown",
      "source": [
        "Useful Function: pyspark recommandation system ML model \\\\\n",
        "Remember to set coldStartStrategy=\"nan\" to make sure model not ignore null data.\n",
        "\n",
        "Spark allows users to set the coldStartStrategy parameter to “drop” in order to drop any rows in the DataFrame of predictions that contain NaN values. The evaluation metric will then be computed over the non-NaN data and will be valid. Usage of this parameter is illustrated in the example below."
      ],
      "metadata": {
        "id": "KEziaFwGTfCo"
      }
    },
    {
      "cell_type": "code",
      "source": [
        "# Import the required functions\n",
        "from pyspark.ml.evaluation import RegressionEvaluator\n",
        "from pyspark.ml.recommendation import ALS\n",
        "\n",
        "# Create ALS model\n",
        "als = ALS(\n",
        "         userCol=\"user_index\", \n",
        "         itemCol=\"item_index\",\n",
        "         ratingCol=\"rating\", \n",
        "         nonnegative = True, \n",
        "         implicitPrefs = False,\n",
        "         coldStartStrategy=\"nan\"\n",
        ")"
      ],
      "metadata": {
        "id": "p2D3e5lfDOCU"
      },
      "execution_count": null,
      "outputs": []
    },
    {
      "cell_type": "code",
      "source": [
        "# Import the requisite packages\n",
        "from pyspark.ml.evaluation import RegressionEvaluator\n",
        "evaluator=RegressionEvaluator(metricName=\"rmse\",labelCol=\"rating\",predictionCol=\"prediction\")\n"
      ],
      "metadata": {
        "id": "TzZu2CZ2DSeE"
      },
      "execution_count": null,
      "outputs": []
    },
    {
      "cell_type": "code",
      "source": [
        "#Fit cross validator to the 'train' dataset\n",
        "model = als.fit(train)\n",
        "\n"
      ],
      "metadata": {
        "id": "_17IcpyrDbuM"
      },
      "execution_count": null,
      "outputs": []
    },
    {
      "cell_type": "markdown",
      "source": [
        "Useful function: fill value to NaN part \\\\\n",
        "example : \\\\\n",
        "a = a.na.fill(value=999)"
      ],
      "metadata": {
        "id": "sk6avSaCUpzt"
      }
    },
    {
      "cell_type": "code",
      "source": [
        "# View the predictions\n",
        "test_predictions = model.transform(test)\n",
        "# rememver to fix nan in prediction\n",
        "test_predictions=test_predictions.na.fill()\n",
        "\n",
        "RMSE = evaluator.evaluate(test_predictions)\n",
        "print(RMSE)"
      ],
      "metadata": {
        "colab": {
          "base_uri": "https://localhost:8080/"
        },
        "id": "tGCmOyMfVGNa",
        "outputId": "92b373ea-4f32-4e75-c9d5-9f4a96f902e5"
      },
      "execution_count": null,
      "outputs": [
        {
          "output_type": "stream",
          "name": "stdout",
          "text": [
            "1.2857136579327189\n"
          ]
        }
      ]
    },
    {
      "cell_type": "code",
      "source": [
        "df_public = spark.read.csv('',header=True,inferSchema=True)\n",
        "df_public_ID = pipeline.fit(df_public).transform(df_public)"
      ],
      "metadata": {
        "id": "AJPyjJej7wll"
      },
      "execution_count": null,
      "outputs": []
    },
    {
      "cell_type": "code",
      "source": [
        "evaluator=RegressionEvaluator(metricName=\"rmse\",labelCol=\"rating\",predictionCol=\"prediction\")\n",
        "predictions=model.transform(df_public_ID)\n",
        "# rememver to fix nan in prediction\n",
        "predictions=predictions.na.fill(value=)\n",
        "\n",
        "rmse=evaluator.evaluate(predictions)\n",
        "print(\"RMSE=\"+str(rmse))\n",
        "predictions.show()"
      ],
      "metadata": {
        "colab": {
          "base_uri": "https://localhost:8080/"
        },
        "id": "X3tILkElIdw9",
        "outputId": "b4439649-a8cc-4954-cee4-429a85bbb2e0"
      },
      "execution_count": null,
      "outputs": [
        {
          "output_type": "stream",
          "name": "stdout",
          "text": [
            "RMSE=1.2798606973227526\n",
            "+----------+--------------+------+----------+----------+----------+\n",
            "|      item|          user|rating|item_index|user_index|prediction|\n",
            "+----------+--------------+------+----------+----------+----------+\n",
            "|B0006IRTU0|A2CYXQOAR1EJRQ|     5|     471.0|   18105.0|      4.35|\n",
            "|B000TK8440|A35B72PSA30R67|     5|     183.0|    1699.0|  4.160066|\n",
            "|B0002BSTY6|A194UXXKM11698|     4|    7919.0|    1160.0| 3.5690026|\n",
            "|B006HCVT5A|A3ISFBZ5UFK81I|     5|    3045.0|   16376.0| 5.3729506|\n",
            "|B004R1ZUNA| A3Y0IB3VYLD6A|     5|     297.0|    5296.0|  3.933884|\n",
            "|B00428LJ06|A1MLBMJSFK6BIJ|     5|     142.0|    6338.0|  3.897945|\n",
            "|B004GXIDYM|A34BONVNM07TRG|     5|    2537.0|   18436.0|      4.35|\n",
            "|B0040GK7NK| AR3EVUQF0AC7R|     5|    1901.0|    1433.0|  3.746513|\n",
            "|B00A88EPCI|A3L249C56OJI7D|     5|     838.0|    8140.0|  4.769078|\n",
            "|B000IBPD76| ARSNAGZWXP7GN|     5|      39.0|   13708.0| 3.7322226|\n",
            "|B0063NC3N0|A3AZPAZXGOD4VL|     5|    1495.0|   16190.0| 2.6549904|\n",
            "|B001Q1A2P0|A168O2YKPE9BE8|     5|   10170.0|      25.0| 4.2140884|\n",
            "|B007XPLI56|A2C5VTBNC6I5MY|     1|     404.0|   15278.0|  2.810014|\n",
            "|B003A5RTHO|A12IOCD2A7OC7K|     5|    6845.0|    2525.0| 5.1152215|\n",
            "|B000EQGT00|A304ILYRZ145SI|     1|     135.0|     710.0|  3.798786|\n",
            "|B00AAPHZVW| ANOST6C92T7HB|     5|     557.0|   18970.0| 0.7698014|\n",
            "|B008R3RPDW|A3J1CEZ30ZOJ7S|     5|   10908.0|   16383.0|      4.35|\n",
            "|B0015FRC32|A28QKOPBDPSHE5|     5|   10076.0|   10890.0|  4.533288|\n",
            "|B000EUKRY0|A1PTTEYFE49BQM|     4|     104.0|    6406.0|  4.591045|\n",
            "|B00005YVRN|A3118YKNMNAS33|     4|     134.0|    2209.0|  3.016202|\n",
            "+----------+--------------+------+----------+----------+----------+\n",
            "only showing top 20 rows\n",
            "\n"
          ]
        }
      ]
    },
    {
      "cell_type": "code",
      "source": [
        "df_testall = spark.read.csv('/content/drive/MyDrive/TA/2022-CCBDA/HW5/test_all.csv',header=True,inferSchema=True)\n"
      ],
      "metadata": {
        "id": "BQHjl2ohZT0b"
      },
      "execution_count": null,
      "outputs": []
    },
    {
      "cell_type": "code",
      "source": [
        "df_test_ID = pipeline.fit(df_testall).transform(df_testall)"
      ],
      "metadata": {
        "id": "hy6mIylWZjgq"
      },
      "execution_count": null,
      "outputs": []
    },
    {
      "cell_type": "code",
      "source": [
        "df_test_ID.printSchema()"
      ],
      "metadata": {
        "colab": {
          "base_uri": "https://localhost:8080/"
        },
        "id": "W_4uSA07ZzbM",
        "outputId": "4d84d125-4e83-4a0f-9c1e-76f2cdb213f0"
      },
      "execution_count": null,
      "outputs": [
        {
          "output_type": "stream",
          "name": "stdout",
          "text": [
            "root\n",
            " |-- item: string (nullable = true)\n",
            " |-- user: string (nullable = true)\n",
            " |-- item_index: double (nullable = false)\n",
            " |-- user_index: double (nullable = false)\n",
            "\n"
          ]
        }
      ]
    },
    {
      "cell_type": "code",
      "source": [
        "df_test_ID.describe().show()"
      ],
      "metadata": {
        "colab": {
          "base_uri": "https://localhost:8080/"
        },
        "id": "KfPhg1ywoNu-",
        "outputId": "810f2e3f-bfa0-4301-90e3-0f6c4b18aa68"
      },
      "execution_count": null,
      "outputs": [
        {
          "output_type": "stream",
          "name": "stdout",
          "text": [
            "+-------+--------------------+--------------------+------------------+-----------------+\n",
            "|summary|                item|                user|        item_index|       user_index|\n",
            "+-------+--------------------+--------------------+------------------+-----------------+\n",
            "|  count|               83799|               83799|             83799|            83799|\n",
            "|   mean|2.1813556526264625E9|                null|3844.3237150801324|8276.219012160049|\n",
            "| stddev|2.1882518602245975E9|                null| 3647.800641218535|6463.700444398778|\n",
            "|    min|          0439893577|A012468118FTQAINE...|               0.0|              0.0|\n",
            "|    max|          B00LBI9BKA|       AZZYW4YOE1B6E|           11824.0|          19127.0|\n",
            "+-------+--------------------+--------------------+------------------+-----------------+\n",
            "\n"
          ]
        }
      ]
    },
    {
      "cell_type": "code",
      "source": [
        "df_test_ID.show()"
      ],
      "metadata": {
        "colab": {
          "base_uri": "https://localhost:8080/"
        },
        "id": "CQ0VXEjAd3aM",
        "outputId": "38470c11-08a8-4086-d67c-233d8691227e"
      },
      "execution_count": null,
      "outputs": [
        {
          "output_type": "stream",
          "name": "stdout",
          "text": [
            "+----------+--------------+----------+----------+\n",
            "|      item|          user|item_index|user_index|\n",
            "+----------+--------------+----------+----------+\n",
            "|B0015FRC32|A28QKOPBDPSHE5|   10076.0|   10890.0|\n",
            "|B000EUKRY0|A1PTTEYFE49BQM|     104.0|    6406.0|\n",
            "|B007XPLI56|A2C5VTBNC6I5MY|     404.0|   15278.0|\n",
            "|B003A5RTHO|A12IOCD2A7OC7K|    6845.0|    2525.0|\n",
            "|B006HCVT5A|A3ISFBZ5UFK81I|    3045.0|   16376.0|\n",
            "|B004GXIDYM|A34BONVNM07TRG|    2537.0|   18436.0|\n",
            "|B004R1ZUNA| A3Y0IB3VYLD6A|     297.0|    5296.0|\n",
            "|B0006IRTU0|A2CYXQOAR1EJRQ|     471.0|   18105.0|\n",
            "|B00A88EPCI|A3L249C56OJI7D|     838.0|    8140.0|\n",
            "|B00428LJ06|A1MLBMJSFK6BIJ|     142.0|    6338.0|\n",
            "|B0002BSTY6|A194UXXKM11698|    7919.0|    1160.0|\n",
            "|B000IBPD76| ARSNAGZWXP7GN|      39.0|   13708.0|\n",
            "|B000TK8440|A35B72PSA30R67|     183.0|    1699.0|\n",
            "|B000EQGT00|A304ILYRZ145SI|     135.0|     710.0|\n",
            "|B00005YVRN|A3118YKNMNAS33|     134.0|    2209.0|\n",
            "|B0027FFMBS|A3LHE5MHDF7X2R|   11442.0|   12545.0|\n",
            "|B00AAPHZVW| ANOST6C92T7HB|     557.0|   18970.0|\n",
            "|B0040GK7NK| AR3EVUQF0AC7R|    1901.0|    1433.0|\n",
            "|B0063NC3N0|A3AZPAZXGOD4VL|    1495.0|   16190.0|\n",
            "|B008R3RPDW|A3J1CEZ30ZOJ7S|   10908.0|   16383.0|\n",
            "+----------+--------------+----------+----------+\n",
            "only showing top 20 rows\n",
            "\n"
          ]
        }
      ]
    },
    {
      "cell_type": "code",
      "source": [
        "testall_predictions=model.transform(df_test_ID)"
      ],
      "metadata": {
        "id": "8E8jbQAwZqdi"
      },
      "execution_count": null,
      "outputs": []
    },
    {
      "cell_type": "code",
      "source": [
        "testall_predictions.printSchema()"
      ],
      "metadata": {
        "colab": {
          "base_uri": "https://localhost:8080/"
        },
        "id": "nwWnlbaWcsky",
        "outputId": "2d937a02-48fa-4e95-8657-569454faedf9"
      },
      "execution_count": null,
      "outputs": [
        {
          "output_type": "stream",
          "name": "stdout",
          "text": [
            "root\n",
            " |-- item: string (nullable = true)\n",
            " |-- user: string (nullable = true)\n",
            " |-- item_index: double (nullable = false)\n",
            " |-- user_index: double (nullable = false)\n",
            " |-- prediction: float (nullable = false)\n",
            "\n"
          ]
        }
      ]
    },
    {
      "cell_type": "code",
      "source": [
        "testall_predictions.describe().show()"
      ],
      "metadata": {
        "colab": {
          "base_uri": "https://localhost:8080/"
        },
        "id": "qWnKzFFuoWbP",
        "outputId": "1026981b-5aba-41f0-b179-b4cf934ab2b8"
      },
      "execution_count": null,
      "outputs": [
        {
          "output_type": "stream",
          "name": "stdout",
          "text": [
            "+-------+--------------------+--------------------+------------------+-----------------+----------+\n",
            "|summary|                item|                user|        item_index|       user_index|prediction|\n",
            "+-------+--------------------+--------------------+------------------+-----------------+----------+\n",
            "|  count|               83799|               83799|             83799|            83799|     83799|\n",
            "|   mean|2.1813556526264625E9|                null|3844.3237150801324|8276.219012160049|       NaN|\n",
            "| stddev|2.1882518602245984E9|                null|3647.8006412185086|6463.700444398735|       NaN|\n",
            "|    min|          0439893577|A012468118FTQAINE...|               0.0|              0.0|       0.0|\n",
            "|    max|          B00LBI9BKA|       AZZYW4YOE1B6E|           11824.0|          19127.0|       NaN|\n",
            "+-------+--------------------+--------------------+------------------+-----------------+----------+\n",
            "\n"
          ]
        }
      ]
    },
    {
      "cell_type": "code",
      "source": [
        "testall_predictions.show()"
      ],
      "metadata": {
        "colab": {
          "base_uri": "https://localhost:8080/"
        },
        "id": "N0_OXylQgCEz",
        "outputId": "aa70d863-3931-4b30-e8fb-d4951a2f447a"
      },
      "execution_count": null,
      "outputs": [
        {
          "output_type": "stream",
          "name": "stdout",
          "text": [
            "+----------+--------------+----------+----------+----------+\n",
            "|      item|          user|item_index|user_index|prediction|\n",
            "+----------+--------------+----------+----------+----------+\n",
            "|B0006IRTU0|A2CYXQOAR1EJRQ|     471.0|   18105.0|       NaN|\n",
            "|B000TK8440|A35B72PSA30R67|     183.0|    1699.0|  4.160066|\n",
            "|B0002BSTY6|A194UXXKM11698|    7919.0|    1160.0| 3.5690026|\n",
            "|B006HCVT5A|A3ISFBZ5UFK81I|    3045.0|   16376.0| 5.3729506|\n",
            "|B004R1ZUNA| A3Y0IB3VYLD6A|     297.0|    5296.0|  3.933884|\n",
            "|B00428LJ06|A1MLBMJSFK6BIJ|     142.0|    6338.0|  3.897945|\n",
            "|B004GXIDYM|A34BONVNM07TRG|    2537.0|   18436.0|       NaN|\n",
            "|B0040GK7NK| AR3EVUQF0AC7R|    1901.0|    1433.0|  3.746513|\n",
            "|B00A88EPCI|A3L249C56OJI7D|     838.0|    8140.0|  4.769078|\n",
            "|B000IBPD76| ARSNAGZWXP7GN|      39.0|   13708.0| 3.7322226|\n",
            "|B0063NC3N0|A3AZPAZXGOD4VL|    1495.0|   16190.0| 2.6549904|\n",
            "|B001Q1A2P0|A168O2YKPE9BE8|   10170.0|      25.0| 4.2140884|\n",
            "|B007XPLI56|A2C5VTBNC6I5MY|     404.0|   15278.0|  2.810014|\n",
            "|B003A5RTHO|A12IOCD2A7OC7K|    6845.0|    2525.0| 5.1152215|\n",
            "|B000EQGT00|A304ILYRZ145SI|     135.0|     710.0|  3.798786|\n",
            "|B00AAPHZVW| ANOST6C92T7HB|     557.0|   18970.0| 0.7698014|\n",
            "|B008R3RPDW|A3J1CEZ30ZOJ7S|   10908.0|   16383.0|       NaN|\n",
            "|B0015FRC32|A28QKOPBDPSHE5|   10076.0|   10890.0|  4.533288|\n",
            "|B000EUKRY0|A1PTTEYFE49BQM|     104.0|    6406.0|  4.591045|\n",
            "|B00005YVRN|A3118YKNMNAS33|     134.0|    2209.0|  3.016202|\n",
            "+----------+--------------+----------+----------+----------+\n",
            "only showing top 20 rows\n",
            "\n"
          ]
        }
      ]
    },
    {
      "cell_type": "markdown",
      "source": [
        "Useful function: concate User Item to generate U_I column"
      ],
      "metadata": {
        "id": "rlg57ZXQUN4a"
      }
    },
    {
      "cell_type": "code",
      "source": [
        "from pyspark.sql.functions import concat, col, lit\n",
        "\n",
        "out = testall_predictions.select(concat(col(\"user\"), lit(\"_\"), col(\"item\")) , testall_predictions.prediction)"
      ],
      "metadata": {
        "id": "ZSJrkwilc5XR"
      },
      "execution_count": null,
      "outputs": []
    },
    {
      "cell_type": "code",
      "source": [
        "out.printSchema()"
      ],
      "metadata": {
        "colab": {
          "base_uri": "https://localhost:8080/"
        },
        "id": "Q0TjFya_fux0",
        "outputId": "76ec83d2-bcc0-4652-ab99-866c3af93204"
      },
      "execution_count": null,
      "outputs": [
        {
          "output_type": "stream",
          "name": "stdout",
          "text": [
            "root\n",
            " |-- concat(user, _, item): string (nullable = true)\n",
            " |-- prediction: float (nullable = false)\n",
            "\n"
          ]
        }
      ]
    },
    {
      "cell_type": "code",
      "source": [
        "out.show()"
      ],
      "metadata": {
        "colab": {
          "base_uri": "https://localhost:8080/"
        },
        "id": "BXfwTKKAeil_",
        "outputId": "b52fcbb7-7ec0-4bcc-c473-121de91028fe"
      },
      "execution_count": null,
      "outputs": [
        {
          "output_type": "stream",
          "name": "stdout",
          "text": [
            "+---------------------+----------+\n",
            "|concat(user, _, item)|prediction|\n",
            "+---------------------+----------+\n",
            "| A2CYXQOAR1EJRQ_B0...|       NaN|\n",
            "| A35B72PSA30R67_B0...|  4.160066|\n",
            "| A194UXXKM11698_B0...| 3.5690026|\n",
            "| A3ISFBZ5UFK81I_B0...| 5.3729506|\n",
            "| A3Y0IB3VYLD6A_B00...|  3.933884|\n",
            "| A1MLBMJSFK6BIJ_B0...|  3.897945|\n",
            "| A34BONVNM07TRG_B0...|       NaN|\n",
            "| AR3EVUQF0AC7R_B00...|  3.746513|\n",
            "| A3L249C56OJI7D_B0...|  4.769078|\n",
            "| ARSNAGZWXP7GN_B00...| 3.7322226|\n",
            "| A3AZPAZXGOD4VL_B0...| 2.6549904|\n",
            "| A168O2YKPE9BE8_B0...| 4.2140884|\n",
            "| A2C5VTBNC6I5MY_B0...|  2.810014|\n",
            "| A12IOCD2A7OC7K_B0...| 5.1152215|\n",
            "| A304ILYRZ145SI_B0...|  3.798786|\n",
            "| ANOST6C92T7HB_B00...| 0.7698014|\n",
            "| A3J1CEZ30ZOJ7S_B0...|       NaN|\n",
            "| A28QKOPBDPSHE5_B0...|  4.533288|\n",
            "| A1PTTEYFE49BQM_B0...|  4.591045|\n",
            "| A3118YKNMNAS33_B0...|  3.016202|\n",
            "+---------------------+----------+\n",
            "only showing top 20 rows\n",
            "\n"
          ]
        }
      ]
    },
    {
      "cell_type": "markdown",
      "source": [
        "Remember to fix NaN value"
      ],
      "metadata": {
        "id": "9UVinGYcVDPw"
      }
    },
    {
      "cell_type": "code",
      "source": [],
      "metadata": {
        "id": "HzGFQkRBqfy0"
      },
      "execution_count": null,
      "outputs": []
    },
    {
      "cell_type": "code",
      "source": [
        "out.show()"
      ],
      "metadata": {
        "colab": {
          "base_uri": "https://localhost:8080/"
        },
        "id": "yAsXRHZyqnoz",
        "outputId": "708dc13f-2e0a-4b8c-b96d-5bf8c3ac0520"
      },
      "execution_count": null,
      "outputs": [
        {
          "output_type": "stream",
          "name": "stdout",
          "text": [
            "+---------------------+----------+\n",
            "|concat(user, _, item)|prediction|\n",
            "+---------------------+----------+\n",
            "| A2CYXQOAR1EJRQ_B0...|      4.35|\n",
            "| A35B72PSA30R67_B0...|  4.160066|\n",
            "| A194UXXKM11698_B0...| 3.5690026|\n",
            "| A3ISFBZ5UFK81I_B0...| 5.3729506|\n",
            "| A3Y0IB3VYLD6A_B00...|  3.933884|\n",
            "| A1MLBMJSFK6BIJ_B0...|  3.897945|\n",
            "| A34BONVNM07TRG_B0...|      4.35|\n",
            "| AR3EVUQF0AC7R_B00...|  3.746513|\n",
            "| A3L249C56OJI7D_B0...|  4.769078|\n",
            "| ARSNAGZWXP7GN_B00...| 3.7322226|\n",
            "| A3AZPAZXGOD4VL_B0...| 2.6549904|\n",
            "| A168O2YKPE9BE8_B0...| 4.2140884|\n",
            "| A2C5VTBNC6I5MY_B0...|  2.810014|\n",
            "| A12IOCD2A7OC7K_B0...| 5.1152215|\n",
            "| A304ILYRZ145SI_B0...|  3.798786|\n",
            "| ANOST6C92T7HB_B00...| 0.7698014|\n",
            "| A3J1CEZ30ZOJ7S_B0...|      4.35|\n",
            "| A28QKOPBDPSHE5_B0...|  4.533288|\n",
            "| A1PTTEYFE49BQM_B0...|  4.591045|\n",
            "| A3118YKNMNAS33_B0...|  3.016202|\n",
            "+---------------------+----------+\n",
            "only showing top 20 rows\n",
            "\n"
          ]
        }
      ]
    },
    {
      "cell_type": "markdown",
      "source": [
        "Remember to sort by U_I before output"
      ],
      "metadata": {
        "id": "WwfRsAmIVL7Q"
      }
    },
    {
      "cell_type": "code",
      "source": [
        "out.orderBy(\"concat(user, _, item)\").show()"
      ],
      "metadata": {
        "colab": {
          "base_uri": "https://localhost:8080/"
        },
        "id": "W7I8P9brk9-1",
        "outputId": "fa4d0bd6-0ba3-421e-d804-f73511159154"
      },
      "execution_count": null,
      "outputs": [
        {
          "output_type": "stream",
          "name": "stdout",
          "text": [
            "+---------------------+----------+\n",
            "|concat(user, _, item)|prediction|\n",
            "+---------------------+----------+\n",
            "| A012468118FTQAINE...| 5.5311413|\n",
            "| A012468118FTQAINE...| 4.6938205|\n",
            "| A012468118FTQAINE...|  4.176839|\n",
            "| A0182108CPDLPRCXQ...| 3.4932892|\n",
            "| A0182108CPDLPRCXQ...| 4.3686213|\n",
            "| A0182108CPDLPRCXQ...| 1.7171348|\n",
            "| A026961431MGW0616...|  2.473917|\n",
            "| A026961431MGW0616...| 3.9460294|\n",
            "| A026961431MGW0616...| 4.9697084|\n",
            "| A034597326Z83X79S...|  4.803519|\n",
            "| A034597326Z83X79S...| 4.0378923|\n",
            "| A034597326Z83X79S...| 3.7165554|\n",
            "| A034597326Z83X79S...| 4.9082375|\n",
            "| A04295422T2ZG087R...|  2.852811|\n",
            "| A04295422T2ZG087R...| 2.4880018|\n",
            "| A060131923OZAPX4N...| 3.3063307|\n",
            "| A060131923OZAPX4N...| 3.7409852|\n",
            "| A060131923OZAPX4N...| 3.9551451|\n",
            "| A060131923OZAPX4N...|  4.144915|\n",
            "| A060131923OZAPX4N...| 3.1489997|\n",
            "+---------------------+----------+\n",
            "only showing top 20 rows\n",
            "\n"
          ]
        }
      ]
    },
    {
      "cell_type": "code",
      "source": [
        "out.orderBy(\"concat(user, _, item)\").coalesce(1).write.format(\"csv\").mode('overwrite').save(\"/content/drive/MyDrive/TA/2022-CCBDA/HW5/sample_submission.csv\")"
      ],
      "metadata": {
        "id": "kmZMGab8dRE9"
      },
      "execution_count": null,
      "outputs": []
    }
  ]
}